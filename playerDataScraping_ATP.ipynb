{
  "nbformat": 4,
  "nbformat_minor": 0,
  "metadata": {
    "colab": {
      "provenance": [],
      "authorship_tag": "ABX9TyODHicA+J5rdoAuS0bYLhav",
      "include_colab_link": true
    },
    "kernelspec": {
      "name": "python3",
      "display_name": "Python 3"
    },
    "language_info": {
      "name": "python"
    }
  },
  "cells": [
    {
      "cell_type": "markdown",
      "metadata": {
        "id": "view-in-github",
        "colab_type": "text"
      },
      "source": [
        "<a href=\"https://colab.research.google.com/github/AeroEng16/TennisPrediction/blob/main/playerDataScraping_ATP.ipynb\" target=\"_parent\"><img src=\"https://colab.research.google.com/assets/colab-badge.svg\" alt=\"Open In Colab\"/></a>"
      ]
    },
    {
      "cell_type": "code",
      "execution_count": null,
      "metadata": {
        "id": "3ZL1lKTYzFhL"
      },
      "outputs": [],
      "source": [
        "import requests\n",
        "import re\n",
        "import json\n",
        "import datetime\n",
        "import pandas as pd\n"
      ]
    },
    {
      "cell_type": "code",
      "source": [
        "headers = {'User-Agent': 'Mozilla/5.0 (Windows NT 10.0; Win64; x64) AppleWebKit/537.36 (KHTML, like Gecko) Chrome/121.0.0.0 Safari/537.36 Edg/121.0.0.0'}\n",
        "\n",
        "apiLink = \"https://atptour.com/en/-/www/rank/sglroll/200?v=1\"\n",
        "\n",
        "individualPlayerBaseURL = \"https://www.atptour.com/en/-/www/stats/PLAYERID/YEAR/COURTTYPE?v=1\"\n",
        "year=\"all\"  #year (e.g. 2024) or all\n",
        "courtType = \"all\" #grass,clay,hard, carpet or all\n",
        "playerDataSrc = requests.get(apiLink,headers=headers).json()\n",
        "playerData = []"
      ],
      "metadata": {
        "id": "txGPRjSCzHGv"
      },
      "execution_count": null,
      "outputs": []
    },
    {
      "cell_type": "code",
      "source": [
        "for i in playerDataSrc:\n",
        "\n",
        "    filteredDataSet = {key: value for key, value in zip(i.keys(), i.values()) if \"RankNo\" in key or \"Name\" in key or \"Points\" in key or \"PlayerId\" in key or \"Movement\" in key}\n",
        "    print(filteredDataSet[\"PlayerId\"])\n",
        "    for k,j in enumerate([\"PLAYERID\",\"YEAR\",\"COURTTYPE\"]):\n",
        "        if k==0:\n",
        "            localURL = individualPlayerBaseURL.replace(j,filteredDataSet[\"PlayerId\"])\n",
        "        elif k == 1:\n",
        "            localURL = localURL.replace(j,year)\n",
        "        elif k == 2:\n",
        "            localURL = localURL.replace(j,courtType)\n",
        "\n",
        "    responseIndividualPlayer = requests.get(localURL,headers=headers)\n",
        "    servingStats = responseIndividualPlayer.json()[\"Stats\"][\"ServiceRecordStats\"]\n",
        "    recevingStats = responseIndividualPlayer.json()[\"Stats\"][\"ReturnRecordStats\"]\n",
        "    relevantServingStats = {key: value for key, value in zip(servingStats.keys(), servingStats.values()) if \"Percentage\" in key }\n",
        "    relevantReceivingStats = {key: value for key, value in zip(recevingStats.keys(), recevingStats.values()) if \"Percentage\" in key }\n",
        "    overallPlayerData = {**filteredDataSet,**relevantServingStats,**relevantReceivingStats}\n",
        "    #print(json.dumps(overallplayerData, indent=2))\n",
        "    playerData.append(overallPlayerData)"
      ],
      "metadata": {
        "id": "BTyDAaH9zHEv"
      },
      "execution_count": null,
      "outputs": []
    },
    {
      "cell_type": "code",
      "source": [
        "playerDF = pd.DataFrame(playerData)\n",
        "\n",
        "todayDate = datetime.datetime.now().strftime(\"%x\").replace(\"/\",\"_\")\n",
        "playerDF.to_csv(\"playerData_Year_\"+year+\"_courtType_\"+courtType+\"_\"+todayDate, sep=',', index=False, encoding='utf-8')"
      ],
      "metadata": {
        "id": "bgTUAsNUzHCU"
      },
      "execution_count": null,
      "outputs": []
    },
    {
      "cell_type": "code",
      "source": [],
      "metadata": {
        "id": "DqIpMFqizG_Z"
      },
      "execution_count": null,
      "outputs": []
    },
    {
      "cell_type": "code",
      "source": [],
      "metadata": {
        "id": "50jQ2QPtzG8c"
      },
      "execution_count": null,
      "outputs": []
    },
    {
      "cell_type": "code",
      "source": [],
      "metadata": {
        "id": "xL8zgjcdzGyR"
      },
      "execution_count": null,
      "outputs": []
    }
  ]
}