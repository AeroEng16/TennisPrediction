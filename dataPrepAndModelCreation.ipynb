{
  "nbformat": 4,
  "nbformat_minor": 0,
  "metadata": {
    "colab": {
      "provenance": [],
      "authorship_tag": "ABX9TyMyhOGZu2PAUBbiNx8dpxdQ",
      "include_colab_link": true
    },
    "kernelspec": {
      "name": "python3",
      "display_name": "Python 3"
    },
    "language_info": {
      "name": "python"
    }
  },
  "cells": [
    {
      "cell_type": "markdown",
      "metadata": {
        "id": "view-in-github",
        "colab_type": "text"
      },
      "source": [
        "<a href=\"https://colab.research.google.com/github/AeroEng16/TennisPrediction/blob/main/dataPrepAndModelCreation.ipynb\" target=\"_parent\"><img src=\"https://colab.research.google.com/assets/colab-badge.svg\" alt=\"Open In Colab\"/></a>"
      ]
    },
    {
      "cell_type": "markdown",
      "source": [
        "## Imports"
      ],
      "metadata": {
        "id": "qpc3k2HwOx3P"
      }
    },
    {
      "cell_type": "code",
      "execution_count": 16,
      "metadata": {
        "id": "xkuJ_k3ovf1_"
      },
      "outputs": [],
      "source": [
        "import pandas as pd\n",
        "import numpy as np\n",
        "import math\n",
        "import datetime\n",
        "import seaborn as sns\n",
        "import plotly.express as px\n",
        "import ast\n",
        "import plotly.graph_objects as go\n",
        "from dateutil.relativedelta import relativedelta\n",
        "#Imports to find best matchf for player without matching name\n",
        "from difflib import SequenceMatcher\n",
        "from operator import itemgetter\n",
        "import ast"
      ]
    },
    {
      "cell_type": "code",
      "source": [
        "import torch\n",
        "from torch import nn\n",
        "from torch.utils.data import Dataset\n",
        "from torch.utils.data import DataLoader\n",
        "from torchvision import datasets\n",
        "from torchvision.transforms import ToTensor"
      ],
      "metadata": {
        "id": "LzM9xCIm3o8r"
      },
      "execution_count": 26,
      "outputs": []
    },
    {
      "cell_type": "code",
      "source": [
        "import requests\n",
        "from pathlib import Path\n",
        "\n",
        "# Download helper functions from Learn PyTorch repo\n",
        "if Path(\"helper_functions.py\").is_file():\n",
        "  pass\n",
        "else:\n",
        "    print(\"Downloading helper_functions.py\")\n",
        "    request = requests.get(\"https://raw.githubusercontent.com/mrdbourke/pytorch-deep-learning/main/helper_functions.py\")\n",
        "    with open(\"helper_functions.py\",\"wb\") as f:\n",
        "      f.write(request.content)\n",
        "\n",
        "from helper_functions import accuracy_fn"
      ],
      "metadata": {
        "id": "iVqWoBkOOvbZ"
      },
      "execution_count": 39,
      "outputs": []
    },
    {
      "cell_type": "markdown",
      "source": [
        "## Data Loading"
      ],
      "metadata": {
        "id": "DAKmYIcWOzyW"
      }
    },
    {
      "cell_type": "code",
      "source": [
        "url =\"https://raw.githubusercontent.com/AeroEng16/TennisPrediction/main/subsetTrainingData_140724.csv\"\n",
        "df = pd.read_csv(url)\n",
        "columnsToDrop_notUseable =[\n",
        "    'Date',\n",
        "    'Court Type',\n",
        "    'Tournament',\n",
        "    'ScoreProgression_Sets',\n",
        "    'ScoreProgression_Games',\n",
        "    'RatingCalculated',\n",
        "     'matchID',\n",
        "     'Player1',\n",
        "     'Player2',\n",
        "     'Unnamed: 0',\n",
        "    'matchID',\n",
        "    'percentageToVictory',\n",
        "    'percentageOfGamesWon',\n",
        "    'dominanceRatio'\n",
        "\n",
        "]\n",
        "columnsToDrop_notEnoughData = [\n",
        "     'Player1_Aces',\n",
        " 'Player1_BreakpointsWon',\n",
        " 'Player1_DoubleFaults',\n",
        " 'Player1_FirstServePointsWon',\n",
        " 'Player1_FirstServeSuccessful',\n",
        " 'Player1_MaxPointsInARow',\n",
        " 'Player1_PointsWon',\n",
        " 'Player1_SecondServePointsWon',\n",
        " 'Player1_SecondServeSuccessful',\n",
        " 'Player1_ServiceGamesWon',\n",
        " 'Player1_ServicePointsLost',\n",
        " 'Player1_ServicePointsWon',\n",
        " 'Player1_TiebreaksWon',\n",
        " 'Player1_TotalBreakpoints',\n",
        " 'Player1_GamesWon',\n",
        " 'Player1_MaxGamesInARow',\n",
        " 'Player2_Aces',\n",
        " 'Player2_BreakpointsWon',\n",
        " 'Player2_DoubleFaults',\n",
        " 'Player2_FirstServePointsWon',\n",
        " 'Player2_FirstServeSuccessful',\n",
        " 'Player2_MaxPointsInARow',\n",
        " 'Player2_PointsWon',\n",
        " 'Player2_SecondServePointsWon',\n",
        " 'Player2_SecondServeSuccessful',\n",
        " 'Player2_ServiceGamesWon',\n",
        " 'Player2_ServicePointsLost',\n",
        " 'Player2_ServicePointsWon',\n",
        " 'Player2_TiebreaksWon',\n",
        " 'Player2_TotalBreakpoints',\n",
        " 'Player2_GamesWon',\n",
        " 'Player2_MaxGamesInARow',\n",
        "]\n",
        "allColumnsToDrop = columnsToDrop_notEnoughData+columnsToDrop_notUseable\n",
        "#df = unfiltered_df.drop(columnsToDrop,axis=1)\n",
        "#df = unfiltered_df.drop([],axis=1)\n",
        "\n",
        "# 1-hot encoding for playhand (1 for Right handed, 0 for left handed)\n",
        "df.Player1_PlayHand = df.Player1_PlayHand.apply(lambda x: 1 if x == 'R' else 0 )\n",
        "df.Player2_PlayHand = df.Player2_PlayHand.apply(lambda x: 1 if x == 'R' else 0 )\n",
        "\n",
        "# 1-hot encoding for winner( 1 for player 1, 0 for player 2)\n",
        "\n",
        "df.Winner = df.Winner.apply(lambda x: 1 if x == 'Player1' else 0 )\n",
        "\n",
        "\n",
        "#NEED TO CCONVERT PLAYHAND AND 3 DERIVED STATS TO FLOAT\n",
        "df.dominanceRatio = df.dominanceRatio.apply(ast.literal_eval)\n",
        "df.percentageToVictory = df.percentageToVictory.apply(ast.literal_eval)\n",
        "df.percentageOfGamesWon = df.percentageOfGamesWon.apply(ast.literal_eval)\n",
        "df[['Player1DominanceRatio','Player2DominanceRatio']] = pd.DataFrame(df.dominanceRatio.tolist(), index= df.index)\n",
        "df[['Player1percentageToVictory','Player2percentageToVictory']] = pd.DataFrame(df.percentageToVictory.tolist(), index= df.index)\n",
        "df[['Player1percentageOfGamesWon','Player2percentageOfGamesWon']] = pd.DataFrame(df.percentageOfGamesWon.tolist(), index= df.index)\n",
        "\n",
        "df.head()"
      ],
      "metadata": {
        "colab": {
          "base_uri": "https://localhost:8080/",
          "height": 360
        },
        "id": "mcVgPEY5voCt",
        "outputId": "69d6b61e-a0ed-4d75-dfa5-efb18f8d132b"
      },
      "execution_count": 18,
      "outputs": [
        {
          "output_type": "execute_result",
          "data": {
            "text/plain": [
              "   Unnamed: 0        Date Tournament Court Type          Player1  \\\n",
              "0           0  2024-05-16       Rome   red-clay  Hurkacz, Hubert   \n",
              "1           1  2024-05-16       Rome   red-clay  Hurkacz, Hubert   \n",
              "2           2  2024-05-16       Rome   red-clay  Hurkacz, Hubert   \n",
              "3           3  2024-05-16       Rome   red-clay  Hurkacz, Hubert   \n",
              "4           4  2024-05-16       Rome   red-clay  Hurkacz, Hubert   \n",
              "\n",
              "   Player1_Rank  Player1_RankingPoints      Player2  Player2_Rank  \\\n",
              "0             9                   3730  Paul, Tommy            16   \n",
              "1             9                   3730  Paul, Tommy            16   \n",
              "2             9                   3730  Paul, Tommy            16   \n",
              "3             9                   3730  Paul, Tommy            16   \n",
              "4             9                   3730  Paul, Tommy            16   \n",
              "\n",
              "   Player2_RankingPoints  ...  Player2_WeightKg percentageToVictory  \\\n",
              "0                   2300  ...              82.0        [0.083, 0.0]   \n",
              "1                   2300  ...              82.0      [0.083, 0.083]   \n",
              "2                   2300  ...              82.0      [0.083, 0.167]   \n",
              "3                   2300  ...              82.0      [0.167, 0.167]   \n",
              "4                   2300  ...              82.0       [0.167, 0.25]   \n",
              "\n",
              "  percentageOfGamesWon  dominanceRatio  Player1DominanceRatio  \\\n",
              "0           [1.0, 0.0]        [1, 0.0]                  1.000   \n",
              "1           [0.5, 0.5]      [1.0, 1.0]                  1.000   \n",
              "2       [0.333, 0.667]      [0.5, 2.0]                  0.500   \n",
              "3           [0.5, 0.5]      [1.0, 1.0]                  1.000   \n",
              "4           [0.4, 0.6]    [0.667, 1.5]                  0.667   \n",
              "\n",
              "   Player2DominanceRatio  Player1percentageToVictory  \\\n",
              "0                    0.0                       0.083   \n",
              "1                    1.0                       0.083   \n",
              "2                    2.0                       0.083   \n",
              "3                    1.0                       0.167   \n",
              "4                    1.5                       0.167   \n",
              "\n",
              "   Player2percentageToVictory  Player1percentageOfGamesWon  \\\n",
              "0                       0.000                        1.000   \n",
              "1                       0.083                        0.500   \n",
              "2                       0.167                        0.333   \n",
              "3                       0.167                        0.500   \n",
              "4                       0.250                        0.400   \n",
              "\n",
              "   Player2percentageOfGamesWon  \n",
              "0                        0.000  \n",
              "1                        0.500  \n",
              "2                        0.667  \n",
              "3                        0.500  \n",
              "4                        0.600  \n",
              "\n",
              "[5 rows x 108 columns]"
            ],
            "text/html": [
              "\n",
              "  <div id=\"df-a3a66a95-aa4d-4189-adfc-5ca99317e3ea\" class=\"colab-df-container\">\n",
              "    <div>\n",
              "<style scoped>\n",
              "    .dataframe tbody tr th:only-of-type {\n",
              "        vertical-align: middle;\n",
              "    }\n",
              "\n",
              "    .dataframe tbody tr th {\n",
              "        vertical-align: top;\n",
              "    }\n",
              "\n",
              "    .dataframe thead th {\n",
              "        text-align: right;\n",
              "    }\n",
              "</style>\n",
              "<table border=\"1\" class=\"dataframe\">\n",
              "  <thead>\n",
              "    <tr style=\"text-align: right;\">\n",
              "      <th></th>\n",
              "      <th>Unnamed: 0</th>\n",
              "      <th>Date</th>\n",
              "      <th>Tournament</th>\n",
              "      <th>Court Type</th>\n",
              "      <th>Player1</th>\n",
              "      <th>Player1_Rank</th>\n",
              "      <th>Player1_RankingPoints</th>\n",
              "      <th>Player2</th>\n",
              "      <th>Player2_Rank</th>\n",
              "      <th>Player2_RankingPoints</th>\n",
              "      <th>...</th>\n",
              "      <th>Player2_WeightKg</th>\n",
              "      <th>percentageToVictory</th>\n",
              "      <th>percentageOfGamesWon</th>\n",
              "      <th>dominanceRatio</th>\n",
              "      <th>Player1DominanceRatio</th>\n",
              "      <th>Player2DominanceRatio</th>\n",
              "      <th>Player1percentageToVictory</th>\n",
              "      <th>Player2percentageToVictory</th>\n",
              "      <th>Player1percentageOfGamesWon</th>\n",
              "      <th>Player2percentageOfGamesWon</th>\n",
              "    </tr>\n",
              "  </thead>\n",
              "  <tbody>\n",
              "    <tr>\n",
              "      <th>0</th>\n",
              "      <td>0</td>\n",
              "      <td>2024-05-16</td>\n",
              "      <td>Rome</td>\n",
              "      <td>red-clay</td>\n",
              "      <td>Hurkacz, Hubert</td>\n",
              "      <td>9</td>\n",
              "      <td>3730</td>\n",
              "      <td>Paul, Tommy</td>\n",
              "      <td>16</td>\n",
              "      <td>2300</td>\n",
              "      <td>...</td>\n",
              "      <td>82.0</td>\n",
              "      <td>[0.083, 0.0]</td>\n",
              "      <td>[1.0, 0.0]</td>\n",
              "      <td>[1, 0.0]</td>\n",
              "      <td>1.000</td>\n",
              "      <td>0.0</td>\n",
              "      <td>0.083</td>\n",
              "      <td>0.000</td>\n",
              "      <td>1.000</td>\n",
              "      <td>0.000</td>\n",
              "    </tr>\n",
              "    <tr>\n",
              "      <th>1</th>\n",
              "      <td>1</td>\n",
              "      <td>2024-05-16</td>\n",
              "      <td>Rome</td>\n",
              "      <td>red-clay</td>\n",
              "      <td>Hurkacz, Hubert</td>\n",
              "      <td>9</td>\n",
              "      <td>3730</td>\n",
              "      <td>Paul, Tommy</td>\n",
              "      <td>16</td>\n",
              "      <td>2300</td>\n",
              "      <td>...</td>\n",
              "      <td>82.0</td>\n",
              "      <td>[0.083, 0.083]</td>\n",
              "      <td>[0.5, 0.5]</td>\n",
              "      <td>[1.0, 1.0]</td>\n",
              "      <td>1.000</td>\n",
              "      <td>1.0</td>\n",
              "      <td>0.083</td>\n",
              "      <td>0.083</td>\n",
              "      <td>0.500</td>\n",
              "      <td>0.500</td>\n",
              "    </tr>\n",
              "    <tr>\n",
              "      <th>2</th>\n",
              "      <td>2</td>\n",
              "      <td>2024-05-16</td>\n",
              "      <td>Rome</td>\n",
              "      <td>red-clay</td>\n",
              "      <td>Hurkacz, Hubert</td>\n",
              "      <td>9</td>\n",
              "      <td>3730</td>\n",
              "      <td>Paul, Tommy</td>\n",
              "      <td>16</td>\n",
              "      <td>2300</td>\n",
              "      <td>...</td>\n",
              "      <td>82.0</td>\n",
              "      <td>[0.083, 0.167]</td>\n",
              "      <td>[0.333, 0.667]</td>\n",
              "      <td>[0.5, 2.0]</td>\n",
              "      <td>0.500</td>\n",
              "      <td>2.0</td>\n",
              "      <td>0.083</td>\n",
              "      <td>0.167</td>\n",
              "      <td>0.333</td>\n",
              "      <td>0.667</td>\n",
              "    </tr>\n",
              "    <tr>\n",
              "      <th>3</th>\n",
              "      <td>3</td>\n",
              "      <td>2024-05-16</td>\n",
              "      <td>Rome</td>\n",
              "      <td>red-clay</td>\n",
              "      <td>Hurkacz, Hubert</td>\n",
              "      <td>9</td>\n",
              "      <td>3730</td>\n",
              "      <td>Paul, Tommy</td>\n",
              "      <td>16</td>\n",
              "      <td>2300</td>\n",
              "      <td>...</td>\n",
              "      <td>82.0</td>\n",
              "      <td>[0.167, 0.167]</td>\n",
              "      <td>[0.5, 0.5]</td>\n",
              "      <td>[1.0, 1.0]</td>\n",
              "      <td>1.000</td>\n",
              "      <td>1.0</td>\n",
              "      <td>0.167</td>\n",
              "      <td>0.167</td>\n",
              "      <td>0.500</td>\n",
              "      <td>0.500</td>\n",
              "    </tr>\n",
              "    <tr>\n",
              "      <th>4</th>\n",
              "      <td>4</td>\n",
              "      <td>2024-05-16</td>\n",
              "      <td>Rome</td>\n",
              "      <td>red-clay</td>\n",
              "      <td>Hurkacz, Hubert</td>\n",
              "      <td>9</td>\n",
              "      <td>3730</td>\n",
              "      <td>Paul, Tommy</td>\n",
              "      <td>16</td>\n",
              "      <td>2300</td>\n",
              "      <td>...</td>\n",
              "      <td>82.0</td>\n",
              "      <td>[0.167, 0.25]</td>\n",
              "      <td>[0.4, 0.6]</td>\n",
              "      <td>[0.667, 1.5]</td>\n",
              "      <td>0.667</td>\n",
              "      <td>1.5</td>\n",
              "      <td>0.167</td>\n",
              "      <td>0.250</td>\n",
              "      <td>0.400</td>\n",
              "      <td>0.600</td>\n",
              "    </tr>\n",
              "  </tbody>\n",
              "</table>\n",
              "<p>5 rows × 108 columns</p>\n",
              "</div>\n",
              "    <div class=\"colab-df-buttons\">\n",
              "\n",
              "  <div class=\"colab-df-container\">\n",
              "    <button class=\"colab-df-convert\" onclick=\"convertToInteractive('df-a3a66a95-aa4d-4189-adfc-5ca99317e3ea')\"\n",
              "            title=\"Convert this dataframe to an interactive table.\"\n",
              "            style=\"display:none;\">\n",
              "\n",
              "  <svg xmlns=\"http://www.w3.org/2000/svg\" height=\"24px\" viewBox=\"0 -960 960 960\">\n",
              "    <path d=\"M120-120v-720h720v720H120Zm60-500h600v-160H180v160Zm220 220h160v-160H400v160Zm0 220h160v-160H400v160ZM180-400h160v-160H180v160Zm440 0h160v-160H620v160ZM180-180h160v-160H180v160Zm440 0h160v-160H620v160Z\"/>\n",
              "  </svg>\n",
              "    </button>\n",
              "\n",
              "  <style>\n",
              "    .colab-df-container {\n",
              "      display:flex;\n",
              "      gap: 12px;\n",
              "    }\n",
              "\n",
              "    .colab-df-convert {\n",
              "      background-color: #E8F0FE;\n",
              "      border: none;\n",
              "      border-radius: 50%;\n",
              "      cursor: pointer;\n",
              "      display: none;\n",
              "      fill: #1967D2;\n",
              "      height: 32px;\n",
              "      padding: 0 0 0 0;\n",
              "      width: 32px;\n",
              "    }\n",
              "\n",
              "    .colab-df-convert:hover {\n",
              "      background-color: #E2EBFA;\n",
              "      box-shadow: 0px 1px 2px rgba(60, 64, 67, 0.3), 0px 1px 3px 1px rgba(60, 64, 67, 0.15);\n",
              "      fill: #174EA6;\n",
              "    }\n",
              "\n",
              "    .colab-df-buttons div {\n",
              "      margin-bottom: 4px;\n",
              "    }\n",
              "\n",
              "    [theme=dark] .colab-df-convert {\n",
              "      background-color: #3B4455;\n",
              "      fill: #D2E3FC;\n",
              "    }\n",
              "\n",
              "    [theme=dark] .colab-df-convert:hover {\n",
              "      background-color: #434B5C;\n",
              "      box-shadow: 0px 1px 3px 1px rgba(0, 0, 0, 0.15);\n",
              "      filter: drop-shadow(0px 1px 2px rgba(0, 0, 0, 0.3));\n",
              "      fill: #FFFFFF;\n",
              "    }\n",
              "  </style>\n",
              "\n",
              "    <script>\n",
              "      const buttonEl =\n",
              "        document.querySelector('#df-a3a66a95-aa4d-4189-adfc-5ca99317e3ea button.colab-df-convert');\n",
              "      buttonEl.style.display =\n",
              "        google.colab.kernel.accessAllowed ? 'block' : 'none';\n",
              "\n",
              "      async function convertToInteractive(key) {\n",
              "        const element = document.querySelector('#df-a3a66a95-aa4d-4189-adfc-5ca99317e3ea');\n",
              "        const dataTable =\n",
              "          await google.colab.kernel.invokeFunction('convertToInteractive',\n",
              "                                                    [key], {});\n",
              "        if (!dataTable) return;\n",
              "\n",
              "        const docLinkHtml = 'Like what you see? Visit the ' +\n",
              "          '<a target=\"_blank\" href=https://colab.research.google.com/notebooks/data_table.ipynb>data table notebook</a>'\n",
              "          + ' to learn more about interactive tables.';\n",
              "        element.innerHTML = '';\n",
              "        dataTable['output_type'] = 'display_data';\n",
              "        await google.colab.output.renderOutput(dataTable, element);\n",
              "        const docLink = document.createElement('div');\n",
              "        docLink.innerHTML = docLinkHtml;\n",
              "        element.appendChild(docLink);\n",
              "      }\n",
              "    </script>\n",
              "  </div>\n",
              "\n",
              "\n",
              "<div id=\"df-3eba1258-cb97-4305-8c22-d8b6e8c6a5aa\">\n",
              "  <button class=\"colab-df-quickchart\" onclick=\"quickchart('df-3eba1258-cb97-4305-8c22-d8b6e8c6a5aa')\"\n",
              "            title=\"Suggest charts\"\n",
              "            style=\"display:none;\">\n",
              "\n",
              "<svg xmlns=\"http://www.w3.org/2000/svg\" height=\"24px\"viewBox=\"0 0 24 24\"\n",
              "     width=\"24px\">\n",
              "    <g>\n",
              "        <path d=\"M19 3H5c-1.1 0-2 .9-2 2v14c0 1.1.9 2 2 2h14c1.1 0 2-.9 2-2V5c0-1.1-.9-2-2-2zM9 17H7v-7h2v7zm4 0h-2V7h2v10zm4 0h-2v-4h2v4z\"/>\n",
              "    </g>\n",
              "</svg>\n",
              "  </button>\n",
              "\n",
              "<style>\n",
              "  .colab-df-quickchart {\n",
              "      --bg-color: #E8F0FE;\n",
              "      --fill-color: #1967D2;\n",
              "      --hover-bg-color: #E2EBFA;\n",
              "      --hover-fill-color: #174EA6;\n",
              "      --disabled-fill-color: #AAA;\n",
              "      --disabled-bg-color: #DDD;\n",
              "  }\n",
              "\n",
              "  [theme=dark] .colab-df-quickchart {\n",
              "      --bg-color: #3B4455;\n",
              "      --fill-color: #D2E3FC;\n",
              "      --hover-bg-color: #434B5C;\n",
              "      --hover-fill-color: #FFFFFF;\n",
              "      --disabled-bg-color: #3B4455;\n",
              "      --disabled-fill-color: #666;\n",
              "  }\n",
              "\n",
              "  .colab-df-quickchart {\n",
              "    background-color: var(--bg-color);\n",
              "    border: none;\n",
              "    border-radius: 50%;\n",
              "    cursor: pointer;\n",
              "    display: none;\n",
              "    fill: var(--fill-color);\n",
              "    height: 32px;\n",
              "    padding: 0;\n",
              "    width: 32px;\n",
              "  }\n",
              "\n",
              "  .colab-df-quickchart:hover {\n",
              "    background-color: var(--hover-bg-color);\n",
              "    box-shadow: 0 1px 2px rgba(60, 64, 67, 0.3), 0 1px 3px 1px rgba(60, 64, 67, 0.15);\n",
              "    fill: var(--button-hover-fill-color);\n",
              "  }\n",
              "\n",
              "  .colab-df-quickchart-complete:disabled,\n",
              "  .colab-df-quickchart-complete:disabled:hover {\n",
              "    background-color: var(--disabled-bg-color);\n",
              "    fill: var(--disabled-fill-color);\n",
              "    box-shadow: none;\n",
              "  }\n",
              "\n",
              "  .colab-df-spinner {\n",
              "    border: 2px solid var(--fill-color);\n",
              "    border-color: transparent;\n",
              "    border-bottom-color: var(--fill-color);\n",
              "    animation:\n",
              "      spin 1s steps(1) infinite;\n",
              "  }\n",
              "\n",
              "  @keyframes spin {\n",
              "    0% {\n",
              "      border-color: transparent;\n",
              "      border-bottom-color: var(--fill-color);\n",
              "      border-left-color: var(--fill-color);\n",
              "    }\n",
              "    20% {\n",
              "      border-color: transparent;\n",
              "      border-left-color: var(--fill-color);\n",
              "      border-top-color: var(--fill-color);\n",
              "    }\n",
              "    30% {\n",
              "      border-color: transparent;\n",
              "      border-left-color: var(--fill-color);\n",
              "      border-top-color: var(--fill-color);\n",
              "      border-right-color: var(--fill-color);\n",
              "    }\n",
              "    40% {\n",
              "      border-color: transparent;\n",
              "      border-right-color: var(--fill-color);\n",
              "      border-top-color: var(--fill-color);\n",
              "    }\n",
              "    60% {\n",
              "      border-color: transparent;\n",
              "      border-right-color: var(--fill-color);\n",
              "    }\n",
              "    80% {\n",
              "      border-color: transparent;\n",
              "      border-right-color: var(--fill-color);\n",
              "      border-bottom-color: var(--fill-color);\n",
              "    }\n",
              "    90% {\n",
              "      border-color: transparent;\n",
              "      border-bottom-color: var(--fill-color);\n",
              "    }\n",
              "  }\n",
              "</style>\n",
              "\n",
              "  <script>\n",
              "    async function quickchart(key) {\n",
              "      const quickchartButtonEl =\n",
              "        document.querySelector('#' + key + ' button');\n",
              "      quickchartButtonEl.disabled = true;  // To prevent multiple clicks.\n",
              "      quickchartButtonEl.classList.add('colab-df-spinner');\n",
              "      try {\n",
              "        const charts = await google.colab.kernel.invokeFunction(\n",
              "            'suggestCharts', [key], {});\n",
              "      } catch (error) {\n",
              "        console.error('Error during call to suggestCharts:', error);\n",
              "      }\n",
              "      quickchartButtonEl.classList.remove('colab-df-spinner');\n",
              "      quickchartButtonEl.classList.add('colab-df-quickchart-complete');\n",
              "    }\n",
              "    (() => {\n",
              "      let quickchartButtonEl =\n",
              "        document.querySelector('#df-3eba1258-cb97-4305-8c22-d8b6e8c6a5aa button');\n",
              "      quickchartButtonEl.style.display =\n",
              "        google.colab.kernel.accessAllowed ? 'block' : 'none';\n",
              "    })();\n",
              "  </script>\n",
              "</div>\n",
              "\n",
              "    </div>\n",
              "  </div>\n"
            ],
            "application/vnd.google.colaboratory.intrinsic+json": {
              "type": "dataframe",
              "variable_name": "df"
            }
          },
          "metadata": {},
          "execution_count": 18
        }
      ]
    },
    {
      "cell_type": "markdown",
      "source": [
        "## Clean any missing data and regularize input data"
      ],
      "metadata": {
        "id": "wvMqGj8YID_G"
      }
    },
    {
      "cell_type": "code",
      "source": [
        "#To begin with just drop rows with Nan values\n",
        "#in sample dataset only 144 rows of 7700 missing (~1.5%, not removing significant data)\n",
        "df = df.dropna()\n",
        "\n",
        "NEED TO REGULARISE THE INPUT DATA"
      ],
      "metadata": {
        "id": "aC4R5NzKIIU2"
      },
      "execution_count": 19,
      "outputs": []
    },
    {
      "cell_type": "markdown",
      "source": [
        "## Model Hyperparameters"
      ],
      "metadata": {
        "id": "zvpUouHVEIxR"
      }
    },
    {
      "cell_type": "code",
      "source": [
        "BATCH_SIZE = 64"
      ],
      "metadata": {
        "id": "ak3PeM3gELGH"
      },
      "execution_count": 20,
      "outputs": []
    },
    {
      "cell_type": "markdown",
      "source": [
        "## Prep Dataset"
      ],
      "metadata": {
        "id": "5mml7wbv5k3u"
      }
    },
    {
      "cell_type": "markdown",
      "source": [
        "### Split dataset into training, test and validation"
      ],
      "metadata": {
        "id": "HM-csy7M6Poh"
      }
    },
    {
      "cell_type": "code",
      "source": [
        "# Percentage split for train test and validation\n",
        "\n",
        "train_split, test_split, valid_split = 0.8,0.1,0.1\n",
        "\n",
        "#Split by match ids not samples to give better representation\n",
        "\n",
        "matchSamples = list(reversed(df.matchID.unique()))\n",
        "\n",
        "#ADD SORTING FOR MATCH SAMPLES BY DATE\n",
        "\n",
        "trainSplitIDs = matchSamples[0:int(len(matchSamples) * train_split)]\n",
        "testSplitIDs = matchSamples[int(len(matchSamples) * train_split) :int(len(matchSamples) * (train_split+test_split))]\n",
        "validSplitIDs = matchSamples[int(len(matchSamples) * (train_split+test_split)) :int(len(matchSamples) * (train_split+test_split+valid_split))]\n",
        "\n",
        "len(trainSplitIDs),len(testSplitIDs),len(validSplitIDs)\n",
        "\n",
        "train_df = df[df.matchID.isin(trainSplitIDs)]\n",
        "test_df = df[df.matchID.isin(testSplitIDs)]\n",
        "valid_df = df[df.matchID.isin(validSplitIDs)]\n",
        "\n",
        "len(train_df), len(test_df), len(valid_df)"
      ],
      "metadata": {
        "colab": {
          "base_uri": "https://localhost:8080/"
        },
        "id": "c4g0c0HaBhGB",
        "outputId": "5927de42-53c2-4d7e-fb0b-2da13606f818"
      },
      "execution_count": 21,
      "outputs": [
        {
          "output_type": "execute_result",
          "data": {
            "text/plain": [
              "(6153, 740, 769)"
            ]
          },
          "metadata": {},
          "execution_count": 21
        }
      ]
    },
    {
      "cell_type": "markdown",
      "source": [
        "## Dataset Creation"
      ],
      "metadata": {
        "id": "FkB8ojIf4p2y"
      }
    },
    {
      "cell_type": "code",
      "source": [
        "# Create the dataset\n",
        "\n",
        "class tennisMatchDataset(Dataset):\n",
        "  def __init__(self,dataFrame,ignoredFeatures = None):\n",
        "\n",
        "    self.df = dataFrame.drop(ignoredFeatures,axis=1)\n",
        "\n",
        "  def __len__(self):\n",
        "    return len(self.df)\n",
        "  def __getitem__(self,idx):\n",
        "\n",
        "    #Extract Labels\n",
        "    self.label = self.df.iloc[idx].Winner\n",
        "    #convert to float\n",
        "    self.label = self.label.astype(float)\n",
        "    # Then convert to tensor\n",
        "\n",
        "    self.label = torch.from_numpy(np.array(self.label))\n",
        "\n",
        "    #Extract Features\n",
        "    self.features = self.df.iloc[idx].drop(\"Winner\")\n",
        "    #Convert to float\n",
        "    self.features = self.features.astype(float)\n",
        "    # Then convert to tensor\n",
        "    self.features = torch.from_numpy(self.features.values)\n",
        "    return self.features, self.label"
      ],
      "metadata": {
        "id": "BxUcJ8Wt3ufM"
      },
      "execution_count": 22,
      "outputs": []
    },
    {
      "cell_type": "code",
      "source": [
        "trainingDataSet = tennisMatchDataset(dataFrame = train_df,\n",
        "                                     ignoredFeatures =allColumnsToDrop)\n",
        "testDataSet = tennisMatchDataset(dataFrame = test_df,\n",
        "                                     ignoredFeatures =allColumnsToDrop)\n",
        "validationDataSet = tennisMatchDataset(dataFrame = valid_df,\n",
        "                                     ignoredFeatures =allColumnsToDrop)"
      ],
      "metadata": {
        "id": "8YU9JTNOCUSp"
      },
      "execution_count": 23,
      "outputs": []
    },
    {
      "cell_type": "code",
      "source": [
        "trainDataLoader = DataLoader(trainingDataSet, batch_size=BATCH_SIZE, shuffle=True)"
      ],
      "metadata": {
        "id": "ewNU8K1fD6lr"
      },
      "execution_count": 24,
      "outputs": []
    },
    {
      "cell_type": "code",
      "source": [
        "train_features, train_labels = next(iter(trainDataLoader))\n",
        "\n",
        "train_features, train_labels"
      ],
      "metadata": {
        "colab": {
          "base_uri": "https://localhost:8080/"
        },
        "id": "T65KvRSzESe6",
        "outputId": "36086ef9-9a1f-4c7b-cdeb-3f1c2bdb416c"
      },
      "execution_count": 25,
      "outputs": [
        {
          "output_type": "execute_result",
          "data": {
            "text/plain": [
              "(tensor([[1.4200e+02, 4.3900e+02, 7.0000e+01,  ..., 8.3300e-01, 2.8600e-01,\n",
              "          7.1400e-01],\n",
              "         [1.4200e+02, 4.3900e+02, 1.0400e+02,  ..., 7.5000e-01, 4.1200e-01,\n",
              "          5.8800e-01],\n",
              "         [8.1000e+01, 7.1800e+02, 6.1000e+01,  ..., 8.3300e-01, 4.4400e-01,\n",
              "          5.5600e-01],\n",
              "         ...,\n",
              "         [7.2000e+01, 7.6000e+02, 2.0700e+02,  ..., 5.0000e-01, 5.0000e-01,\n",
              "          5.0000e-01],\n",
              "         [5.0000e+00, 5.4350e+03, 1.0000e+02,  ..., 4.1700e-01, 4.4400e-01,\n",
              "          5.5600e-01],\n",
              "         [1.0600e+02, 5.9000e+02, 8.0000e+00,  ..., 2.5000e-01, 5.7100e-01,\n",
              "          4.2900e-01]], dtype=torch.float64),\n",
              " tensor([0., 0., 0., 0., 1., 0., 1., 1., 0., 1., 1., 0., 1., 0., 1., 0., 1., 0.,\n",
              "         0., 0., 0., 1., 1., 0., 0., 0., 0., 0., 0., 0., 1., 0., 0., 0., 1., 0.,\n",
              "         0., 1., 1., 1., 1., 1., 0., 0., 1., 0., 0., 1., 1., 1., 0., 1., 0., 0.,\n",
              "         0., 1., 0., 1., 1., 0., 0., 1., 0., 1.], dtype=torch.float64))"
            ]
          },
          "metadata": {},
          "execution_count": 25
        }
      ]
    },
    {
      "cell_type": "code",
      "source": [
        "train_features.size(),train_labels.size()"
      ],
      "metadata": {
        "id": "aZoe3mBiKpqV",
        "outputId": "3c5cf6e3-5698-432b-d79e-948ac8d3d9ce",
        "colab": {
          "base_uri": "https://localhost:8080/"
        }
      },
      "execution_count": 32,
      "outputs": [
        {
          "output_type": "execute_result",
          "data": {
            "text/plain": [
              "(torch.Size([64, 62]), torch.Size([64]))"
            ]
          },
          "metadata": {},
          "execution_count": 32
        }
      ]
    },
    {
      "cell_type": "markdown",
      "source": [
        "## Setup Model"
      ],
      "metadata": {
        "id": "hlW8ZAuQH_8T"
      }
    },
    {
      "cell_type": "code",
      "source": [
        "# Device agnostic code\n",
        "\n",
        "# Make device agnostic code\n",
        "\n",
        "device = \"cuda\" if torch.cuda.is_available() else \"cpu\"\n",
        "\n",
        "device"
      ],
      "metadata": {
        "id": "ALN1GZzFKI7j",
        "outputId": "46d26d66-66a2-4adc-fcd4-15c00124e3d8",
        "colab": {
          "base_uri": "https://localhost:8080/",
          "height": 35
        }
      },
      "execution_count": 28,
      "outputs": [
        {
          "output_type": "execute_result",
          "data": {
            "text/plain": [
              "'cpu'"
            ],
            "application/vnd.google.colaboratory.intrinsic+json": {
              "type": "string"
            }
          },
          "metadata": {},
          "execution_count": 28
        }
      ]
    },
    {
      "cell_type": "code",
      "source": [
        "# Create model class\n",
        "class tennisPredModel(nn.Module):\n",
        "  '''\n",
        "    First pass at tennis prediction model. Network design has had no real thought\n",
        "  '''\n",
        "\n",
        "  def __init__(self,\n",
        "               input_shape: int,\n",
        "               hidden_units: int,\n",
        "               output_shape: int,\n",
        "               numberOfLayers: int = None):\n",
        "    super().__init__()\n",
        "    self.layer_stack = nn.Sequential(\n",
        "        nn.Linear(in_features=input_shape,\n",
        "                  out_features = hidden_units),\n",
        "        nn.ReLU(),\n",
        "        nn.Linear(in_features = hidden_units,\n",
        "                  out_features = hidden_units),\n",
        "        nn.ReLU(),\n",
        "        nn.Linear(in_features = hidden_units,\n",
        "                  out_features = output_shape),\n",
        "        nn.ReLU(),\n",
        "        nn.Softmax()\n",
        "    )\n",
        "    def forward(self, x: torch.Tensor):\n",
        "      return self.layer_stack(x)"
      ],
      "metadata": {
        "id": "JeKd2V3OKSea"
      },
      "execution_count": 35,
      "outputs": []
    },
    {
      "cell_type": "code",
      "source": [
        "# Instance of model\n",
        "# Set random seed\n",
        "torch.manual_seed(42)\n",
        "\n",
        "model1 = tennisPredModel(input_shape = 62,\n",
        "                         hidden_units = 30,\n",
        "                         output_shape = 2).to(device)"
      ],
      "metadata": {
        "id": "paNYnZnIMoVt"
      },
      "execution_count": 37,
      "outputs": []
    },
    {
      "cell_type": "code",
      "source": [
        "def train_step(model:torch.nn.Module,\n",
        "              dataLoader:torch.utils.data.DataLoader,\n",
        "              loss_fn:torch.nn.Module,\n",
        "              optimiser:torch.optim.Optimizer,\n",
        "              accuracy_fn,\n",
        "              device:torch.device = device):\n",
        "  \"\"\"\n",
        "  Performs training step with model trying to learn on dataloader\n",
        "  \"\"\"\n",
        "\n",
        "  ### Put model into training mode\n",
        "  model.train()\n",
        "\n",
        "  ### Training\n",
        "\n",
        "  train_loss, train_acc = 0, 0\n",
        "\n",
        "  # Add a loop to loop through the training batches\n",
        "\n",
        "  for batch, (X,y) in enumerate(dataLoader):\n",
        "    X,y = X.to(device),y.to(device)\n",
        "    # 1. Forward pass (outputs raw logits from model)\n",
        "    y_pred=model(X)\n",
        "    # 2. Calculate loss (per batch)\n",
        "    loss = loss_fn(y_pred,y)\n",
        "    train_loss +=loss   #accumulate training loss\n",
        "    train_acc += accuracy_fn(y_true=y,\n",
        "                             y_pred=y_pred.argmax(dim=1))\n",
        "    # 3. Zero grad\n",
        "    optimiser.zero_grad()\n",
        "    # 4. Loss backwards\n",
        "    loss.backward()\n",
        "    # 5. Optimiser step\n",
        "    optimiser.step()  # Optimizer will update model parameters once per batch rather than once per epoch\n",
        "\n",
        "  # Divide total train loss by length of train dataloader\n",
        "  train_loss /=len(dataLoader)\n",
        "  train_acc /= len(dataLoader)\n",
        "\n",
        "  print(f\"Train loss: {train_loss:.4f} | Train acc: {train_acc:.2f}%\")"
      ],
      "metadata": {
        "id": "Mc9yLlFAOedr"
      },
      "execution_count": null,
      "outputs": []
    }
  ]
}