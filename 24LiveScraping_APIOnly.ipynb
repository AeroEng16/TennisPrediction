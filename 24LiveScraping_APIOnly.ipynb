{
  "cells": [
    {
      "cell_type": "markdown",
      "metadata": {
        "id": "view-in-github",
        "colab_type": "text"
      },
      "source": [
        "<a href=\"https://colab.research.google.com/github/AeroEng16/TennisPrediction/blob/main/24LiveScraping_APIOnly.ipynb\" target=\"_parent\"><img src=\"https://colab.research.google.com/assets/colab-badge.svg\" alt=\"Open In Colab\"/></a>"
      ]
    },
    {
      "cell_type": "code",
      "source": [
        "import requests\n",
        "import re\n",
        "from datetime import datetime, timedelta\n",
        "import pandas as pd\n",
        "import json\n"
      ],
      "metadata": {
        "id": "ewCr9uhRPLWB"
      },
      "execution_count": 1,
      "outputs": []
    },
    {
      "cell_type": "code",
      "source": [
        "## Load existing match data\n",
        "\n",
        "matchURL = \"https://raw.githubusercontent.com/AeroEng16/TennisPrediction/main/scrapedMatchData.csv\"\n",
        "df_matches = pd.read_csv(matchURL)\n",
        "\n",
        "\n",
        "previousFinalDate = pd.to_datetime(df_matches['Date']).max().date()\n"
      ],
      "metadata": {
        "id": "cW0zpE1DtJxz"
      },
      "execution_count": null,
      "outputs": []
    },
    {
      "cell_type": "code",
      "source": [
        "\n",
        "#Base URLS\n",
        "\n",
        "listOfTournamentsURL = \"https://www.24live.com/api/match-list-category/10?lang=en&type=all&sort=alpha&from=CURRENTDATE%2000:00:00&to=CURRENTDATE%2023:59:59\"\n",
        "listOfMatchesURL = \"https://www.24live.com/api/match-list-data/10?lang=en&type=all&subtournamentIds=COMMASEPARATEDTOURNAMENTIDS&sort=alpha&short=1&from=CURRENTDATE%2000:00:00&to=CURRENTDATE%2023:59:59\"\n",
        "\n",
        "baseMatchURL = \"https://www.24live.com/api/match/MATCHID\"\n",
        "todayDate = datetime.now().strftime(\"%x\").replace(\"/\",\"_\")\n",
        "\n",
        "allMatchdf = pd.DataFrame(columns=['Date','Tournament',\"Court Type\",'Player1', 'Player1_Rank', 'Player1_RankingPoints', 'Player2', 'Player2_Rank', 'Player2_RankingPoints','Best of Sets','ScoreProgression_Games','ScoreProgression_Sets',\n",
        "                                   'Player1_Aces','Player1_BreakpointsWon','Player1_DoubleFaults','Player1_FirstServePointsWon','Player1_FirstServeSuccessful','Player1_MaxPointsInARow','Player1_PointsWon','Player1_SecondServePointsWon','Player1_SecondServeSuccessful','Player1_ServiceGamesWon','Player1_ServicePointsLost','Player1_ServicePointsWon','Player1_TiebreaksWon','Player1_TotalBreakpoints','Player1_GamesWon','Player1_MaxGamesInARow',\n",
        "                                   'Player2_Aces','Player2_BreakpointsWon','Player2_DoubleFaults','Player2_FirstServePointsWon','Player2_FirstServeSuccessful','Player2_MaxPointsInARow','Player2_PointsWon','Player2_SecondServePointsWon','Player2_SecondServeSuccessful','Player2_ServiceGamesWon','Player2_ServicePointsLost','Player2_ServicePointsWon','Player2_TiebreaksWon','Player2_TotalBreakpoints','Player2_GamesWon','Player2_MaxGamesInARow'])\n",
        "\n",
        "# Loop through each day in the calendar from current date back to June 2022 when details are not available earlier than that (as of 21/02/24)\n",
        "for dayNumber in range(1,1200):\n",
        "    d = datetime.today() - timedelta(days=dayNumber)\n",
        "    if d.date() == previousFinalDate:\n",
        "      break\n",
        "    d = d.strftime('%Y-%m-%d').replace(\"/\",\"-\")\n",
        "\n",
        "    currentTournamentList = listOfTournamentsURL.replace('CURRENTDATE',d)\n",
        "\n",
        "    tournamentList = requests.get(currentTournamentList)\n",
        "    tournamentList = [i for i in tournamentList.json() if i[\"category_name\"]==\"ATP\" and i[\"singles_doubles\"]==1]\n",
        "\n",
        "    tournamentList = [{key: value for key, value in zip(i.keys(), i.values()) if \"sub_tournament_id\" in key or \"tournament_name\" in key or \"sub_tournament_ground\" in key} for i in tournamentList]\n",
        "\n",
        "    tournIDList = [str(i[\"sub_tournament_id\"])+\",\" for i in tournamentList]\n",
        "    tournIDList = \"\".join(tournIDList)[:-1]\n",
        "\n",
        "    currentMatchListURL = listOfMatchesURL.replace(\"CURRENTDATE\",d)\n",
        "    currentMatchListURL = currentMatchListURL.replace(\"COMMASEPARATEDTOURNAMENTIDS\",tournIDList)\n",
        "\n",
        "    currentDayMatchList = requests.get(currentMatchListURL).json()\n",
        "    allMatchIds = [i[\"id\"] for i in currentDayMatchList]\n",
        "\n",
        "    #allMatches = []\n",
        "    #allMatchIds = []\n",
        "\n",
        "# Loop through match ids\n",
        "    for id in allMatchIds:\n",
        "        matchURL = baseMatchURL.replace(\"MATCHID\",str(id))\n",
        "        matchResponse = requests.get(matchURL)\n",
        "        try:\n",
        "            jsonResponse = matchResponse.json()\n",
        "        except requests.exceptions.JSONDecodeError:\n",
        "            print(\"jsonError\")\n",
        "            continue\n",
        "        # Extract player name, rank and rank points\n",
        "        if jsonResponse[\"code_state\"]!=\"ended\":\n",
        "            print(\"no match data for \"+str(id))\n",
        "            continue\n",
        "\n",
        "        player1={}\n",
        "        player2={}\n",
        "        player1[\"name\"]  = re.split(\"\\(\",[player for player in jsonResponse[\"participants\"] if player[\"type\"]==\"home_team\"][0][\"name\"])[0].strip()\n",
        "        player2[\"name\"] = re.split(\"\\(\",[player for player in jsonResponse[\"participants\"] if player[\"type\"]==\"away_team\"][0][\"name\"])[0].strip()\n",
        "        if \"/\" in player1[\"name\"]:\n",
        "            continue\n",
        "        # if either player isn't ranked then ignore match and continue\n",
        "        try:\n",
        "            player1[\"rankingPoints\"] = [points for points in jsonResponse[\"tennis_rankings\"] if points[\"info\"][\"name\"]==player1[\"name\"]][0][\"points\"]\n",
        "        except IndexError:\n",
        "            continue\n",
        "        try:\n",
        "            player2[\"rankingPoints\"] = [points for points in jsonResponse[\"tennis_rankings\"] if points[\"info\"][\"name\"]==player2[\"name\"]][0][\"points\"]\n",
        "        except IndexError:\n",
        "            continue\n",
        "        player1[\"ranking\"] = [points for points in jsonResponse[\"tennis_rankings\"] if points[\"info\"][\"name\"]==player1[\"name\"]][0][\"ranking\"]\n",
        "        player2[\"ranking\"] = [points for points in jsonResponse[\"tennis_rankings\"] if points[\"info\"][\"name\"]==player2[\"name\"]][0][\"ranking\"]\n",
        "        # Extract Player stats from the game\n",
        "        player1Stats = jsonResponse[\"participantStatistics\"]\n",
        "\n",
        "\n",
        "        # Extract game timeline from\n",
        "        matchData = jsonResponse[\"live_timelines\"]\n",
        "        matchData = [[item[\"home_score\"],item[\"away_score\"]] for item in matchData if item[\"type\"] ==\"period_score\" or item[\"type\"]==\"period_start\"]\n",
        "        matchData = [score for score in matchData if score != [None,None]]\n",
        "        matchDataBySet = []\n",
        "        for i,score in enumerate(matchData):\n",
        "\n",
        "            if i==0:\n",
        "                matchDataBySet.append([score])\n",
        "            else:\n",
        "                if sum(matchData[i])>sum(matchData[i-1]):\n",
        "                    matchDataBySet[-1].append(score)\n",
        "                elif sum(matchData[i])==sum(matchData[i-1]):\n",
        "                    continue\n",
        "                else:\n",
        "                    matchDataBySet.append([score])\n",
        "\n",
        "        numberOfSets = len(matchDataBySet)\n",
        "        setScores = []\n",
        "        for i in range(0,numberOfSets):\n",
        "            setScores.append([0,0])\n",
        "\n",
        "        for i,score in enumerate(matchDataBySet):\n",
        "\n",
        "            try:\n",
        "                if score[-1][0]>score[-1][1]:\n",
        "                #setScores[i][0]+=1\n",
        "                    setScores = [[x[0]+1,x[1]] if count>=i else x for count,x in enumerate(setScores) ]\n",
        "            except IndexError:\n",
        "                print(\"Error for match data \"+str(id))\n",
        "                continue\n",
        "            if score[-1][1]>score[-1][0]:\n",
        "                setScores = [[x[0],x[1]+1] if count>=i else x for count,x in enumerate(setScores) ]\n",
        "        try:\n",
        "            bestOf = 3 if max(setScores[-1])==2  else 5\n",
        "        except IndexError:\n",
        "            print(\"Error for match data \"+str(id))\n",
        "            continue\n",
        "        allMatchdf.loc[0 if pd.isnull(allMatchdf.index.max()) else allMatchdf.index.max() + 1]=[d,jsonResponse[\"sub_tournament_name\"],jsonResponse[\"sub_tournament_ground\"].replace(\"web.ground-type_\",\"\"),player1[\"name\"],player1[\"ranking\"],player1[\"rankingPoints\"],player2[\"name\"],player2[\"ranking\"],player2[\"rankingPoints\"],bestOf,matchDataBySet,setScores]\n",
        "        if len(allMatchdf.index) % 100 == 0:\n",
        "            allMatchdf.to_csv(\"matchData_test_\"+todayDate+\".json\", sep=',', index=False, encoding='utf-8')\n",
        "\n"
      ],
      "metadata": {
        "id": "PzFhlbkMPIlD",
        "outputId": "65233263-3831-436f-adef-2f94c0d08aca",
        "colab": {
          "base_uri": "https://localhost:8080/"
        }
      },
      "execution_count": null,
      "outputs": [
        {
          "output_type": "stream",
          "name": "stdout",
          "text": [
            "no match data for 3920855\n",
            "no match data for 3934299\n",
            "no match data for 3934313\n",
            "no match data for 3934315\n"
          ]
        }
      ]
    },
    {
      "cell_type": "code",
      "source": [
        "allMatchdf = pd.concat([allMatchdf, df_matches], ignore_index=True)\n",
        "\n",
        "#allMatchdf.to_csv(\"matchData_test_\"+todayDate+\".json\", sep=',', index=False, encoding='utf-8')\n",
        "allMatchdf.to_csv(\"scrapedMatchData.csv\", sep=',', index=False, encoding='utf-8')"
      ],
      "metadata": {
        "id": "KswUcHDqPSLk"
      },
      "execution_count": null,
      "outputs": []
    },
    {
      "cell_type": "code",
      "source": [
        "matchURL =\"https://24live.com/api/match/3928087\"\n",
        "matchResponse = requests.get(matchURL)\n",
        "jsonResponse = matchResponse.json()\n",
        "player1Stats = jsonResponse[\"participantStatistics\"][\"home\"]\n",
        "player2Stats = jsonResponse[\"participantStatistics\"][\"away\"]\n",
        "player2Stats"
      ],
      "metadata": {
        "id": "owZiqlVFbGVD",
        "outputId": "8a7a3500-2c36-421e-fdf4-e4fbfea558ab",
        "colab": {
          "base_uri": "https://localhost:8080/"
        }
      },
      "execution_count": 4,
      "outputs": [
        {
          "output_type": "execute_result",
          "data": {
            "text/plain": [
              "{'Aces': '7',\n",
              " 'BreakpointsWon': '0',\n",
              " 'DoubleFaults': '3',\n",
              " 'FirstServePointsWon': '27',\n",
              " 'FirstServeSuccessful': '37',\n",
              " 'MaxPointsInARow': '5',\n",
              " 'PointsWon': '51',\n",
              " 'SecondServePointsWon': '13',\n",
              " 'SecondServeSuccessful': '20',\n",
              " 'ServiceGamesWon': '8',\n",
              " 'ServicePointsLost': '20',\n",
              " 'ServicePointsWon': '40',\n",
              " 'TiebreaksWon': '0',\n",
              " 'TotalBreakpoints': '2',\n",
              " 'GamesWon': '8',\n",
              " 'MaxGamesInARow': '1'}"
            ]
          },
          "metadata": {},
          "execution_count": 4
        }
      ]
    }
  ],
  "metadata": {
    "kernelspec": {
      "display_name": ".venv",
      "language": "python",
      "name": "python3"
    },
    "language_info": {
      "codemirror_mode": {
        "name": "ipython",
        "version": 3
      },
      "file_extension": ".py",
      "mimetype": "text/x-python",
      "name": "python",
      "nbconvert_exporter": "python",
      "pygments_lexer": "ipython3",
      "version": "3.11.3"
    },
    "colab": {
      "provenance": [],
      "include_colab_link": true
    }
  },
  "nbformat": 4,
  "nbformat_minor": 0
}