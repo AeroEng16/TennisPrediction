{
  "cells": [
    {
      "cell_type": "markdown",
      "metadata": {
        "id": "view-in-github",
        "colab_type": "text"
      },
      "source": [
        "<a href=\"https://colab.research.google.com/github/AeroEng16/TennisPrediction/blob/main/24LiveScraping_APIOnly.ipynb\" target=\"_parent\"><img src=\"https://colab.research.google.com/assets/colab-badge.svg\" alt=\"Open In Colab\"/></a>"
      ]
    },
    {
      "cell_type": "code",
      "source": [
        "import requests\n",
        "import re\n",
        "from datetime import datetime, timedelta\n",
        "import pandas as pd\n",
        "import json\n"
      ],
      "metadata": {
        "id": "ewCr9uhRPLWB"
      },
      "execution_count": null,
      "outputs": []
    },
    {
      "cell_type": "code",
      "source": [],
      "metadata": {
        "id": "ZJOvFxxiKY2W"
      },
      "execution_count": null,
      "outputs": []
    },
    {
      "cell_type": "markdown",
      "source": [
        "# Glicko Rating Setup"
      ],
      "metadata": {
        "id": "CLBAek9i2By3"
      }
    },
    {
      "cell_type": "code",
      "source": [
        "\"\"\"\n",
        "Copyright (c) 2009 Ryan Kirkman\n",
        "\n",
        "Permission is hereby granted, free of charge, to any person\n",
        "obtaining a copy of this software and associated documentation\n",
        "files (the \"Software\"), to deal in the Software without\n",
        "restriction, including without limitation the rights to use,\n",
        "copy, modify, merge, publish, distribute, sublicense, and/or sell\n",
        "copies of the Software, and to permit persons to whom the\n",
        "Software is furnished to do so, subject to the following\n",
        "conditions:\n",
        "\n",
        "The above copyright notice and this permission notice shall be\n",
        "included in all copies or substantial portions of the Software.\n",
        "\n",
        "THE SOFTWARE IS PROVIDED \"AS IS\", WITHOUT WARRANTY OF ANY KIND,\n",
        "EXPRESS OR IMPLIED, INCLUDING BUT NOT LIMITED TO THE WARRANTIES\n",
        "OF MERCHANTABILITY, FITNESS FOR A PARTICULAR PURPOSE AND\n",
        "NONINFRINGEMENT. IN NO EVENT SHALL THE AUTHORS OR COPYRIGHT\n",
        "HOLDERS BE LIABLE FOR ANY CLAIM, DAMAGES OR OTHER LIABILITY,\n",
        "WHETHER IN AN ACTION OF CONTRACT, TORT OR OTHERWISE, ARISING\n",
        "FROM, OUT OF OR IN CONNECTION WITH THE SOFTWARE OR THE USE OR\n",
        "OTHER DEALINGS IN THE SOFTWARE.\n",
        "\"\"\"\n",
        "\n",
        "import math\n",
        "\n",
        "class Player:\n",
        "    # Class attribute\n",
        "    # The system constant, which constrains\n",
        "    # the change in volatility over time.\n",
        "    _tau = 0.5\n",
        "\n",
        "    def getRating(self):\n",
        "        return (self.__rating * 173.7178) + 1500\n",
        "\n",
        "    def setRating(self, rating):\n",
        "        self.__rating = (rating - 1500) / 173.7178\n",
        "\n",
        "    rating = property(getRating, setRating)\n",
        "\n",
        "    def getRd(self):\n",
        "        return self.__rd * 173.7178\n",
        "\n",
        "    def setRd(self, rd):\n",
        "        self.__rd = rd / 173.7178\n",
        "\n",
        "    rd = property(getRd, setRd)\n",
        "\n",
        "    def __init__(self, rating = 1500, rd = 350, vol = 0.06):\n",
        "        # For testing purposes, preload the values\n",
        "        # assigned to an unrated player.\n",
        "        self.setRating(rating)\n",
        "        self.setRd(rd)\n",
        "        self.vol = vol\n",
        "\n",
        "    def _preRatingRD(self):\n",
        "        \"\"\" Calculates and updates the player's rating deviation for the\n",
        "        beginning of a rating period.\n",
        "\n",
        "        preRatingRD() -> None\n",
        "\n",
        "        \"\"\"\n",
        "        self.__rd = math.sqrt(math.pow(self.__rd, 2) + math.pow(self.vol, 2))\n",
        "\n",
        "    def update_player(self, rating_list, RD_list, outcome_list):\n",
        "        \"\"\" Calculates the new rating and rating deviation of the player.\n",
        "\n",
        "        update_player(list[int], list[int], list[bool]) -> None\n",
        "\n",
        "        \"\"\"\n",
        "        # Convert the rating and rating deviation values for internal use.\n",
        "        rating_list = [(x - 1500) / 173.7178 for x in rating_list]\n",
        "        RD_list = [x / 173.7178 for x in RD_list]\n",
        "\n",
        "        v = self._v(rating_list, RD_list)\n",
        "        self.vol = self._newVol(rating_list, RD_list, outcome_list, v)\n",
        "        self._preRatingRD()\n",
        "\n",
        "        self.__rd = 1 / math.sqrt((1 / math.pow(self.__rd, 2)) + (1 / v))\n",
        "\n",
        "        tempSum = 0\n",
        "        for i in range(len(rating_list)):\n",
        "            tempSum += self._g(RD_list[i]) * \\\n",
        "                       (outcome_list[i] - self._E(rating_list[i], RD_list[i]))\n",
        "        self.__rating += math.pow(self.__rd, 2) * tempSum\n",
        "\n",
        "\n",
        "    def _newVol(self, rating_list, RD_list, outcome_list, v):\n",
        "        \"\"\" Calculating the new volatility as per the Glicko2 system.\n",
        "\n",
        "        _newVol(list, list, list) -> float\n",
        "\n",
        "        \"\"\"\n",
        "        i = 0\n",
        "        delta = self._delta(rating_list, RD_list, outcome_list, v)\n",
        "        a = math.log(math.pow(self.vol, 2))\n",
        "        tau = self._tau\n",
        "        x0 = a\n",
        "        x1 = 0\n",
        "\n",
        "        while x0 != x1:\n",
        "            # New iteration, so x(i) becomes x(i-1)\n",
        "            x0 = x1\n",
        "            d = math.pow(self.__rating, 2) + v + math.exp(x0)\n",
        "            h1 = -(x0 - a) / math.pow(tau, 2) - 0.5 * math.exp(x0) \\\n",
        "            / d + 0.5 * math.exp(x0) * math.pow(delta / d, 2)\n",
        "            h2 = -1 / math.pow(tau, 2) - 0.5 * math.exp(x0) * \\\n",
        "            (math.pow(self.__rating, 2) + v) \\\n",
        "            / math.pow(d, 2) + 0.5 * math.pow(delta, 2) * math.exp(x0) \\\n",
        "            * (math.pow(self.__rating, 2) + v - math.exp(x0)) / math.pow(d, 3)\n",
        "            x1 = x0 - (h1 / h2)\n",
        "\n",
        "        return math.exp(x1 / 2)\n",
        "\n",
        "    def _delta(self, rating_list, RD_list, outcome_list, v):\n",
        "        \"\"\" The delta function of the Glicko2 system.\n",
        "\n",
        "        _delta(list, list, list) -> float\n",
        "\n",
        "        \"\"\"\n",
        "        tempSum = 0\n",
        "        for i in range(len(rating_list)):\n",
        "            tempSum += self._g(RD_list[i]) * (outcome_list[i] - self._E(rating_list[i], RD_list[i]))\n",
        "        return v * tempSum\n",
        "\n",
        "    def _v(self, rating_list, RD_list):\n",
        "        \"\"\" The v function of the Glicko2 system.\n",
        "\n",
        "        _v(list[int], list[int]) -> float\n",
        "\n",
        "        \"\"\"\n",
        "        tempSum = 0\n",
        "        for i in range(len(rating_list)):\n",
        "            tempE = self._E(rating_list[i], RD_list[i])\n",
        "            tempSum += math.pow(self._g(RD_list[i]), 2) * tempE * (1 - tempE)\n",
        "        return 1 / tempSum\n",
        "\n",
        "    def _E(self, p2rating, p2RD):\n",
        "        \"\"\" The Glicko E function.\n",
        "\n",
        "        _E(int) -> float\n",
        "\n",
        "        \"\"\"\n",
        "        return 1 / (1 + math.exp(-1 * self._g(p2RD) * \\\n",
        "                                 (self.__rating - p2rating)))\n",
        "\n",
        "    def _g(self, RD):\n",
        "        \"\"\" The Glicko2 g(RD) function.\n",
        "\n",
        "        _g() -> float\n",
        "\n",
        "        \"\"\"\n",
        "        return 1 / math.sqrt(1 + 3 * math.pow(RD, 2) / math.pow(math.pi, 2))\n",
        "\n",
        "    def did_not_compete(self):\n",
        "        \"\"\" Applies Step 6 of the algorithm. Use this for\n",
        "        players who did not compete in the rating period.\n",
        "\n",
        "        did_not_compete() -> None\n",
        "\n",
        "        \"\"\"\n",
        "        self._preRatingRD()\n",
        "\n"
      ],
      "metadata": {
        "id": "Y67Zyjwg1kro"
      },
      "execution_count": null,
      "outputs": []
    },
    {
      "cell_type": "markdown",
      "source": [
        "# Scraping Data"
      ],
      "metadata": {
        "id": "Isj5jPAdKeWq"
      }
    },
    {
      "cell_type": "code",
      "source": [
        "## Load existing match data\n",
        "\n",
        "matchURL = \"https://raw.githubusercontent.com/AeroEng16/TennisPrediction/main/scrapedMatchData.csv\"\n",
        "df_matches = pd.read_csv(matchURL)\n",
        "\n",
        "\n",
        "previousFinalDate = pd.to_datetime(df_matches['Date']).max().date()\n"
      ],
      "metadata": {
        "id": "cW0zpE1DtJxz",
        "colab": {
          "base_uri": "https://localhost:8080/"
        },
        "outputId": "61a09ae9-3ffd-4d38-ea68-a3cda6d914df"
      },
      "execution_count": null,
      "outputs": [
        {
          "output_type": "execute_result",
          "data": {
            "text/plain": [
              "datetime.date(2024, 5, 8)"
            ]
          },
          "metadata": {},
          "execution_count": 13
        }
      ]
    },
    {
      "cell_type": "code",
      "source": [
        "\n",
        "#Base URLS\n",
        "\n",
        "listOfTournamentsURL = \"https://www.24live.com/api/match-list-category/10?lang=en&type=all&sort=alpha&from=CURRENTDATE%2000:00:00&to=CURRENTDATE%2023:59:59\"\n",
        "listOfMatchesURL = \"https://www.24live.com/api/match-list-data/10?lang=en&type=all&subtournamentIds=COMMASEPARATEDTOURNAMENTIDS&sort=alpha&short=1&from=CURRENTDATE%2000:00:00&to=CURRENTDATE%2023:59:59\"\n",
        "\n",
        "baseMatchURL = \"https://www.24live.com/api/match/MATCHID\"\n",
        "todayDate = datetime.now().strftime(\"%x\").replace(\"/\",\"_\")\n",
        "\n",
        "allMatchdf = pd.DataFrame(columns=['Date','Tournament',\"Court Type\",'Player1', 'Player1_Rank', 'Player1_RankingPoints', 'Player2', 'Player2_Rank', 'Player2_RankingPoints','Best of Sets','ScoreProgression_Games','ScoreProgression_Sets',\n",
        "                                   'Player1_Aces','Player1_BreakpointsWon','Player1_DoubleFaults','Player1_FirstServePointsWon','Player1_FirstServeSuccessful','Player1_MaxPointsInARow','Player1_PointsWon','Player1_SecondServePointsWon','Player1_SecondServeSuccessful','Player1_ServiceGamesWon','Player1_ServicePointsLost','Player1_ServicePointsWon','Player1_TiebreaksWon','Player1_TotalBreakpoints','Player1_GamesWon','Player1_MaxGamesInARow',\n",
        "                                   'Player2_Aces','Player2_BreakpointsWon','Player2_DoubleFaults','Player2_FirstServePointsWon','Player2_FirstServeSuccessful','Player2_MaxPointsInARow','Player2_PointsWon','Player2_SecondServePointsWon','Player2_SecondServeSuccessful','Player2_ServiceGamesWon','Player2_ServicePointsLost','Player2_ServicePointsWon','Player2_TiebreaksWon','Player2_TotalBreakpoints','Player2_GamesWon','Player2_MaxGamesInARow'])\n",
        "\n",
        "# Loop through each day in the calendar from current date back to June 2022 when details are not available earlier than that (as of 21/02/24)\n",
        "for dayNumber in range(1,1200):\n",
        "    d = datetime.today() - timedelta(days=dayNumber)\n",
        "    if d.date() == previousFinalDate:\n",
        "      break\n",
        "    d = d.strftime('%Y-%m-%d').replace(\"/\",\"-\")\n",
        "\n",
        "    currentTournamentList = listOfTournamentsURL.replace('CURRENTDATE',d)\n",
        "\n",
        "    tournamentList = requests.get(currentTournamentList)\n",
        "    tournamentList = [i for i in tournamentList.json() if i[\"category_name\"]==\"ATP\" and i[\"singles_doubles\"]==1]\n",
        "\n",
        "    tournamentList = [{key: value for key, value in zip(i.keys(), i.values()) if \"sub_tournament_id\" in key or \"tournament_name\" in key or \"sub_tournament_ground\" in key} for i in tournamentList]\n",
        "\n",
        "    tournIDList = [str(i[\"sub_tournament_id\"])+\",\" for i in tournamentList]\n",
        "    tournIDList = \"\".join(tournIDList)[:-1]\n",
        "\n",
        "    currentMatchListURL = listOfMatchesURL.replace(\"CURRENTDATE\",d)\n",
        "    currentMatchListURL = currentMatchListURL.replace(\"COMMASEPARATEDTOURNAMENTIDS\",tournIDList)\n",
        "\n",
        "    currentDayMatchList = requests.get(currentMatchListURL).json()\n",
        "    allMatchIds = [i[\"id\"] for i in currentDayMatchList]\n",
        "\n",
        "    #allMatches = []\n",
        "    #allMatchIds = []\n",
        "\n",
        "# Loop through match ids\n",
        "    for id in allMatchIds:\n",
        "        matchURL = baseMatchURL.replace(\"MATCHID\",str(id))\n",
        "        matchResponse = requests.get(matchURL)\n",
        "        try:\n",
        "            jsonResponse = matchResponse.json()\n",
        "        except requests.exceptions.JSONDecodeError:\n",
        "            print(\"jsonError\")\n",
        "            continue\n",
        "        # Extract player name, rank and rank points\n",
        "        if jsonResponse[\"code_state\"]!=\"ended\":\n",
        "            print(\"no match data for \"+str(id))\n",
        "            continue\n",
        "\n",
        "        player1={}\n",
        "        player2={}\n",
        "        player1[\"name\"]  = re.split(\"\\(\",[player for player in jsonResponse[\"participants\"] if player[\"type\"]==\"home_team\"][0][\"name\"])[0].strip()\n",
        "        player2[\"name\"] = re.split(\"\\(\",[player for player in jsonResponse[\"participants\"] if player[\"type\"]==\"away_team\"][0][\"name\"])[0].strip()\n",
        "        if \"/\" in player1[\"name\"]:\n",
        "            continue\n",
        "        # if either player isn't ranked then ignore match and continue\n",
        "        try:\n",
        "            player1[\"rankingPoints\"] = [points for points in jsonResponse[\"tennis_rankings\"] if points[\"info\"][\"name\"]==player1[\"name\"]][0][\"points\"]\n",
        "        except IndexError:\n",
        "            continue\n",
        "        try:\n",
        "            player2[\"rankingPoints\"] = [points for points in jsonResponse[\"tennis_rankings\"] if points[\"info\"][\"name\"]==player2[\"name\"]][0][\"points\"]\n",
        "        except IndexError:\n",
        "            continue\n",
        "        player1[\"ranking\"] = [points for points in jsonResponse[\"tennis_rankings\"] if points[\"info\"][\"name\"]==player1[\"name\"]][0][\"ranking\"]\n",
        "        player2[\"ranking\"] = [points for points in jsonResponse[\"tennis_rankings\"] if points[\"info\"][\"name\"]==player2[\"name\"]][0][\"ranking\"]\n",
        "        # Extract Player stats from the game\n",
        "        try:\n",
        "          player1Stats = jsonResponse[\"participantStatistics\"][\"home\"]\n",
        "          player2Stats = jsonResponse[\"participantStatistics\"][\"away\"]\n",
        "        except:\n",
        "          continue\n",
        "\n",
        "        # Extract game timeline from\n",
        "        matchData = jsonResponse[\"live_timelines\"]\n",
        "        matchData = [[item[\"home_score\"],item[\"away_score\"]] for item in matchData if item[\"type\"] ==\"period_score\" or item[\"type\"]==\"period_start\"]\n",
        "        matchData = [score for score in matchData if score != [None,None]]\n",
        "        matchDataBySet = []\n",
        "        for i,score in enumerate(matchData):\n",
        "\n",
        "            if i==0:\n",
        "                matchDataBySet.append([score])\n",
        "            else:\n",
        "                if sum(matchData[i])>sum(matchData[i-1]):\n",
        "                    matchDataBySet[-1].append(score)\n",
        "                elif sum(matchData[i])==sum(matchData[i-1]):\n",
        "                    continue\n",
        "                else:\n",
        "                    matchDataBySet.append([score])\n",
        "\n",
        "        numberOfSets = len(matchDataBySet)\n",
        "        setScores = []\n",
        "        for i in range(0,numberOfSets):\n",
        "            setScores.append([0,0])\n",
        "\n",
        "        for i,score in enumerate(matchDataBySet):\n",
        "\n",
        "            try:\n",
        "                if score[-1][0]>score[-1][1]:\n",
        "                #setScores[i][0]+=1\n",
        "                    setScores = [[x[0]+1,x[1]] if count>=i else x for count,x in enumerate(setScores) ]\n",
        "            except IndexError:\n",
        "                print(\"Error for match data \"+str(id))\n",
        "                continue\n",
        "            if score[-1][1]>score[-1][0]:\n",
        "                setScores = [[x[0],x[1]+1] if count>=i else x for count,x in enumerate(setScores) ]\n",
        "        try:\n",
        "            bestOf = 3 if max(setScores[-1])==2  else 5\n",
        "        except IndexError:\n",
        "            print(\"Error for match data \"+str(id))\n",
        "            continue\n",
        "        allMatchdf.loc[0 if pd.isnull(allMatchdf.index.max()) else allMatchdf.index.max() + 1]=[d,jsonResponse[\"sub_tournament_name\"],jsonResponse[\"sub_tournament_ground\"].replace(\"web.ground-type_\",\"\"),player1[\"name\"],player1[\"ranking\"],player1[\"rankingPoints\"],player2[\"name\"],player2[\"ranking\"],player2[\"rankingPoints\"],bestOf,matchDataBySet,setScores,\n",
        "                                                                                                player1Stats[\"Aces\"],player1Stats['BreakpointsWon'],player1Stats['DoubleFaults'],player1Stats['FirstServePointsWon'],player1Stats['FirstServeSuccessful'],player1Stats['MaxPointsInARow'],player1Stats[\"PointsWon\"],player1Stats['SecondServePointsWon'],player1Stats['SecondServeSuccessful'],player1Stats['ServiceGamesWon'],player1Stats['ServicePointsLost'],player1Stats['ServicePointsWon'],player1Stats['TiebreaksWon'],player1Stats['TotalBreakpoints'],player1Stats['GamesWon'],player1Stats['MaxGamesInARow'],\n",
        "                                                                                                player2Stats[\"Aces\"],player2Stats['BreakpointsWon'],player2Stats['DoubleFaults'],player2Stats['FirstServePointsWon'],player2Stats['FirstServeSuccessful'],player2Stats['MaxPointsInARow'],player2Stats[\"PointsWon\"],player2Stats['SecondServePointsWon'],player2Stats['SecondServeSuccessful'],player2Stats['ServiceGamesWon'],player2Stats['ServicePointsLost'],player2Stats['ServicePointsWon'],player2Stats['TiebreaksWon'],player2Stats['TotalBreakpoints'],player2Stats['GamesWon'],player2Stats['MaxGamesInARow']]\n",
        "        if len(allMatchdf.index) % 100 == 0:\n",
        "            allMatchdf.to_csv(\"matchData_test_\"+todayDate+\".json\", sep=',', index=False, encoding='utf-8')\n",
        "\n"
      ],
      "metadata": {
        "id": "PzFhlbkMPIlD"
      },
      "execution_count": null,
      "outputs": []
    },
    {
      "cell_type": "markdown",
      "source": [
        "# Add additional data to scraped data"
      ],
      "metadata": {
        "id": "l2ancrpaKrwR"
      }
    },
    {
      "cell_type": "code",
      "source": [
        "###############################################################################################################################\n",
        "## Convert string of lists to lists, create matchID, create winner column and calculate average games per set across dataset ##\n",
        "###############################################################################################################################\n",
        "\n",
        "df_matches[\"ScoreProgression_Games\"] = df_matches[\"ScoreProgression_Games\"].apply(ast.literal_eval)\n",
        "df_matches[\"ScoreProgression_Sets\"] = df_matches[\"ScoreProgression_Sets\"].apply(ast.literal_eval)\n",
        "df_matches[\"matchID\"] = \"Player1Rank_\"+df_matches[\"Player1_Rank\"].astype(str)+\"_Player2Rank_\"+df_matches[\"Player2_Rank\"].astype(str)+\"_Date_\"+df_matches[\"Date\"]\n",
        "df_matches[\"Winner\"] = df_matches.apply(lambda x: \"Player1\" if x[\"ScoreProgression_Sets\"][-1][0]>x[\"ScoreProgression_Sets\"][-1][1] else \"Player2\",axis=1)\n",
        "df_matches[\"totalGamesPerSet\"] = [Average([sum(y[-1]) for y in x]) for x in df_matches[\"ScoreProgression_Games\"]]"
      ],
      "metadata": {
        "id": "CuRHaJ70Kuzp"
      },
      "execution_count": null,
      "outputs": []
    },
    {
      "cell_type": "code",
      "source": [
        "#NEED TO ADD IN LOGIC FOR IF GAME ALREADY HAS RATING, DONT REDO THEN ONLY RUN SCRAPING SCRIPT MONTHLY AND CALC NEW RATINGS EACH TIME\n",
        "#ALSO NEED TO ADD LOGIC WHEN SCRAPING SUCH THAT"
      ],
      "metadata": {
        "id": "twQBAKdFLQqB"
      },
      "execution_count": null,
      "outputs": []
    },
    {
      "cell_type": "code",
      "source": [
        "# Initialise rating for all players\n",
        "import sys\n",
        "from tqdm.auto import tqdm,trange\n",
        "sys.setrecursionlimit(10**6)\n",
        "\n",
        "NEED TO CHANGE THIS PART SO THAT IF IT IS ALREADY RATED THEN TAKE RATING FROM\n",
        "MOST RECENT GAME\n",
        "\n",
        "#####################################\n",
        "## REMOVE THIS WHEN RUN FIRST TIME ##\n",
        "#####################################\n",
        "\n",
        "df_matches[\"Player1_Glicko2Rating\"] = 1500\n",
        "df_matches[\"Player2_Glicko2Rating\"] = 1500\n",
        "df_matches[\"Player1_Glicko2RD\"] = 350\n",
        "df_matches[\"Player2_Glicko2RD\"] = 350\n",
        "df_matches[\"Player1_Glicko2Vol\"] = 0.06\n",
        "df_matches[\"Player2_Glicko2Vol\"] = 0.06\n",
        "import datetime\n",
        "\n",
        "def updateRating(row,startDate,player,rating,RD,vol):\n",
        "    '''\n",
        "     Check if row is in rating period or after and update player rating for all rows that meet this criterion\n",
        "    '''\n",
        "    if row[\"Player1\"] == player:\n",
        "      if datetime.datetime.strptime(startDate,date_format)<=datetime.datetime.strptime(row[\"Date\"],date_format):\n",
        "       row[\"Player1_Glicko2Rating\"] = rating\n",
        "       row[\"Player1_Glicko2RD\"] = RD\n",
        "       row[\"Player1_Glicko2Vol\"] = vol\n",
        "    else:\n",
        "      if datetime.datetime.strptime(startDate,date_format)<=datetime.datetime.strptime(row[\"Date\"],date_format):\n",
        "        row[\"Player2_Glicko2Rating\"] = rating\n",
        "        row[\"Player2_Glicko2RD\"] = RD\n",
        "        row[\"Player2_Glicko2Vol\"] = vol\n",
        "    return row\n",
        "date_format = '%Y-%m-%d'\n",
        "maxDate = max(df_matches[\"Date\"])\n",
        "minDate = min(df_matches[\"Date\"])\n",
        "\n",
        "maxDate = (datetime.datetime.strptime(maxDate,date_format).replace(day=1) + datetime.timedelta(days=32)).replace(day=1).strftime(\"%Y-%m-%d\")\n",
        "\n",
        "monthRange = pd.date_range(minDate,maxDate,\n",
        "              freq='MS').strftime(\"%Y-%m-%d\").tolist()\n",
        "\n",
        "#for i in range(0,len(monthRange)-1):\n",
        "for i in trange(0,len(monthRange)-1,desc=\"Date Loop\"):\n",
        "  df_filtered = df_matches.copy()\n",
        "  df_filtered = df_filtered[df_filtered[\"Date\"].apply(lambda x: datetime.datetime.strptime(monthRange[i],date_format)<=datetime.datetime.strptime(x,date_format)<datetime.datetime.strptime(monthRange[i+1],date_format))]\n",
        "\n",
        "  playerList = pd.unique(df_filtered[[\"Player1\",\"Player2\"]].values.ravel('K'))\n",
        "\n",
        "  #for player in playerList:\n",
        "  for player in tqdm(playerList,desc=\"Player Loop\"):\n",
        "    allPlayerList = list(df_filtered[(df_filtered[\"Player1\"].str.contains(player) | df_filtered[\"Player2\"].str.contains(player))][\"Player1\"].unique())+list(df_filtered[(df_filtered[\"Player1\"].str.contains(player) | df_filtered[\"Player2\"].str.contains(player))][\"Player2\"].unique())\n",
        "    matchesList = df_filtered[(df_filtered[\"Player1\"].str.contains(player) | df_filtered[\"Player2\"].str.contains(player))]\n",
        "\n",
        "    # Create list for score, opponent rating and RD\n",
        "    score = []\n",
        "    opponentRating = []\n",
        "    opponentRD = []\n",
        "    if df_matches.iloc[[0]][\"Player1\"].values[0] == player:\n",
        "      currentRating = df_matches.iloc[[0]][\"Player1_Glicko2Rating\"].values[0]\n",
        "      currentVol = df_matches.iloc[[0]][\"Player1_Glicko2Vol\"].values[0]\n",
        "      currentRD = df_matches.iloc[[0]][\"Player1_Glicko2RD\"].values[0]\n",
        "    else:\n",
        "      currentRating = df_matches.iloc[[0]][\"Player2_Glicko2Rating\"].values[0]\n",
        "      currentVol = df_matches.iloc[[0]][\"Player2_Glicko2Vol\"].values[0]\n",
        "      currentRD = df_matches.iloc[[0]][\"Player2_Glicko2RD\"].values[0]\n",
        "    for index, row in matchesList.iterrows():\n",
        "      if ((row[\"Player1\"] == player) & (row[\"Winner\"] == \"Player1\")) | ((row[\"Player2\"] == player) & (row[\"Winner\"] == \"Player2\")):\n",
        "        score.append(1)\n",
        "      else:\n",
        "        score.append(0)\n",
        "      if row[\"Player1\"] == player:\n",
        "        opponentRating.append(row[\"Player2_Glicko2Rating\"])\n",
        "        opponentRD.append(row[\"Player2_Glicko2RD\"])\n",
        "      else:\n",
        "        opponentRating.append(row[\"Player1_Glicko2Rating\"])\n",
        "        opponentRD.append(row[\"Player2_Glicko2RD\"])\n",
        "    # Create player class for player rating, RD and vol at start of rating period and update rating based on current period results\n",
        "    tempPlayer = Player(rating=currentRating,rd=currentRD,vol=currentVol)\n",
        "    tempPlayer.update_player(opponentRating,opponentRD,score)\n",
        "    # Update master df to update player rating for any games during or after this rating period.\n",
        "    df_matches = df_matches.apply(updateRating,args=(minDate,player,tempPlayer.rating,tempPlayer.rd,tempPlayer.vol,),axis=1,result_type=\"expand\")\n",
        "    # Add marker to each row where the rating has been calculated\n",
        "    df_matches[\"RatingCalculated\"] = True\n",
        "\n"
      ],
      "metadata": {
        "colab": {
          "base_uri": "https://localhost:8080/",
          "height": 145,
          "referenced_widgets": [
            "a9733ff5ca27483da2c56bef402bf4cb",
            "7c3b1191f3d6446c8df12e4d54a28606",
            "3b01a02ac0b8415d959c6903d8a62576",
            "963adba9b97843608b3a4ac901922e92",
            "65ad9994f36546e298419df343069bdb",
            "f300160c8e0a4b59aded1639ba7cb965",
            "a2d8d2e1c4a84c33bbc2208c69bc0b5d",
            "ccc49f88436a4186bc15754c1647b966",
            "8b3af26efa9a41e992c8d17330183393",
            "a65abcbe20a24dd0aa4aac31c356d947",
            "6de39f3a376a47dbae2cd415d2d341b6",
            "7aee0578fac24334ac2527cfaaf56b3e",
            "ed91cc25a46a47a18fef41b9bb138fbc",
            "2ce80cdcb5434368ab464ee8efd3d868",
            "f113d9ed5242491ebc6112dace3c5f9c",
            "a933b4caa62d49189c060749045cc462",
            "92473967f4ef40e5a281682595dbf8ba",
            "3292e115b77642a0a47bc9f91f8d67eb",
            "b0833e33a7434e83b94d9a5eee0e3fc0",
            "9540333ca0574bb397b15f978a78f63e",
            "93d39ee7d98548ab904467f637e9fc1b",
            "b443dc8650724c93ae49e4ef7dc6cbf0",
            "2d7009a6e8d84b2785a40e6d18e6c43c",
            "0814d9d2d4404b5b9a6ba2692afe9a97",
            "38a2dbc35beb4777a4e759cc263fcb10",
            "4472ebe83fd14b309b9e1ba7e959198c",
            "d0bbd2145f8b4a51803e10f80b7acd06",
            "c3840b454ebb47ce9eec14c20591b0a2",
            "e44b2e7cc3204076bbb281f5da39f28b",
            "1d8f35a625ef47bb9eae5c528abb5824",
            "d318c33dcc3746c384c89eb2a7d4642e",
            "960c05d1e44f48d29256da2e46340015",
            "8e15de3649b1429282d20aac7273e4e9",
            "9c14837f2c934e32a3c4f286279573d1",
            "1ae68fd2351846f1ac7f1e69ad067cd6",
            "ad8d04a3dcb3499daa13679f8221a2e6",
            "98a388224170476195a28da0e1cd477e",
            "cf2fef84833147dd9191bca4bf49e10f",
            "683a6f7b0a654a9a876d9391eedb9ef8",
            "e81ab2d5e98145799fe4e5b947779f50",
            "5c0b93bc4f254b44a4a3f342a062f1a2",
            "f920775c4c6c45508626911502d96bf9",
            "56a6b037226145c19583be212ac42438",
            "b06c927ac64d40e29f71481cfea20be7"
          ]
        },
        "id": "WNRL8qOUHRg6",
        "outputId": "4f0a5fd7-eda3-448a-eeed-e56ca649521d"
      },
      "execution_count": null,
      "outputs": [
        {
          "output_type": "display_data",
          "data": {
            "text/plain": [
              "Date Loop:   0%|          | 0/23 [00:00<?, ?it/s]"
            ],
            "application/vnd.jupyter.widget-view+json": {
              "version_major": 2,
              "version_minor": 0,
              "model_id": "a9733ff5ca27483da2c56bef402bf4cb"
            }
          },
          "metadata": {}
        },
        {
          "output_type": "display_data",
          "data": {
            "text/plain": [
              "Player Loop:   0%|          | 0/133 [00:00<?, ?it/s]"
            ],
            "application/vnd.jupyter.widget-view+json": {
              "version_major": 2,
              "version_minor": 0,
              "model_id": "7aee0578fac24334ac2527cfaaf56b3e"
            }
          },
          "metadata": {}
        },
        {
          "output_type": "display_data",
          "data": {
            "text/plain": [
              "Player Loop:   0%|          | 0/233 [00:00<?, ?it/s]"
            ],
            "application/vnd.jupyter.widget-view+json": {
              "version_major": 2,
              "version_minor": 0,
              "model_id": "2d7009a6e8d84b2785a40e6d18e6c43c"
            }
          },
          "metadata": {}
        },
        {
          "output_type": "display_data",
          "data": {
            "text/plain": [
              "Player Loop:   0%|          | 0/121 [00:00<?, ?it/s]"
            ],
            "application/vnd.jupyter.widget-view+json": {
              "version_major": 2,
              "version_minor": 0,
              "model_id": "9c14837f2c934e32a3c4f286279573d1"
            }
          },
          "metadata": {}
        }
      ]
    },
    {
      "cell_type": "markdown",
      "source": [
        "# Output final database to csv"
      ],
      "metadata": {
        "id": "UafH_uaMKoAa"
      }
    },
    {
      "cell_type": "code",
      "source": [
        "allMatchdf = pd.concat([allMatchdf, df_matches], ignore_index=True)\n",
        "\n",
        "#allMatchdf.to_csv(\"matchData_test_\"+todayDate+\".json\", sep=',', index=False, encoding='utf-8')\n",
        "allMatchdf.to_csv(\"scrapedMatchData.csv\", sep=',', index=False, encoding='utf-8')"
      ],
      "metadata": {
        "id": "KswUcHDqPSLk"
      },
      "execution_count": null,
      "outputs": []
    }
  ],
  "metadata": {
    "kernelspec": {
      "display_name": ".venv",
      "language": "python",
      "name": "python3"
    },
    "language_info": {
      "codemirror_mode": {
        "name": "ipython",
        "version": 3
      },
      "file_extension": ".py",
      "mimetype": "text/x-python",
      "name": "python",
      "nbconvert_exporter": "python",
      "pygments_lexer": "ipython3",
      "version": "3.11.3"
    },
    "colab": {
      "provenance": [],
      "toc_visible": true,
      "include_colab_link": true
    }
  },
  "nbformat": 4,
  "nbformat_minor": 0
}